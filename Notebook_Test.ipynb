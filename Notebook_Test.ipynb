{
 "cells": [
  {
   "cell_type": "code",
   "execution_count": 3,
   "metadata": {},
   "outputs": [
    {
     "data": {
      "text/html": [
       "<div class=\"vega-embed\" id=\"c62d476c-a981-4d62-9046-9db5eb536cd6\"></div>\n",
       "\n",
       "<style>\n",
       ".vega-embed .error p {\n",
       "    color: firebrick;\n",
       "    font-size: 14px;\n",
       "}\n",
       "</style>\n"
      ]
     },
     "metadata": {
      "jupyter-vega": "#c62d476c-a981-4d62-9046-9db5eb536cd6"
     },
     "output_type": "display_data"
    },
    {
     "data": {
      "application/javascript": [
       "var spec = {\"config\": {\"view\": {\"width\": 400, \"height\": 300}}, \"data\": {\"values\": [{\"petalLength\": 1.4, \"petalWidth\": 0.2, \"sepalLength\": 5.1, \"sepalWidth\": 3.5, \"species\": \"setosa\"}, {\"petalLength\": 1.4, \"petalWidth\": 0.2, \"sepalLength\": 4.9, \"sepalWidth\": 3.0, \"species\": \"setosa\"}, {\"petalLength\": 1.3, \"petalWidth\": 0.2, \"sepalLength\": 4.7, \"sepalWidth\": 3.2, \"species\": \"setosa\"}, {\"petalLength\": 1.5, \"petalWidth\": 0.2, \"sepalLength\": 4.6, \"sepalWidth\": 3.1, \"species\": \"setosa\"}, {\"petalLength\": 1.4, \"petalWidth\": 0.2, \"sepalLength\": 5.0, \"sepalWidth\": 3.6, \"species\": \"setosa\"}, {\"petalLength\": 1.7000000000000002, \"petalWidth\": 0.4, \"sepalLength\": 5.4, \"sepalWidth\": 3.9, \"species\": \"setosa\"}, {\"petalLength\": 1.4, \"petalWidth\": 0.30000000000000004, \"sepalLength\": 4.6, \"sepalWidth\": 3.4, \"species\": \"setosa\"}, {\"petalLength\": 1.5, \"petalWidth\": 0.2, \"sepalLength\": 5.0, \"sepalWidth\": 3.4, \"species\": \"setosa\"}, {\"petalLength\": 1.4, \"petalWidth\": 0.2, \"sepalLength\": 4.4, \"sepalWidth\": 2.9, \"species\": \"setosa\"}, {\"petalLength\": 1.5, \"petalWidth\": 0.1, \"sepalLength\": 4.9, \"sepalWidth\": 3.1, \"species\": \"setosa\"}, {\"petalLength\": 1.5, \"petalWidth\": 0.2, \"sepalLength\": 5.4, \"sepalWidth\": 3.7, \"species\": \"setosa\"}, {\"petalLength\": 1.6, \"petalWidth\": 0.2, \"sepalLength\": 4.8, \"sepalWidth\": 3.4, \"species\": \"setosa\"}, {\"petalLength\": 1.4, \"petalWidth\": 0.1, \"sepalLength\": 4.8, \"sepalWidth\": 3.0, \"species\": \"setosa\"}, {\"petalLength\": 1.1, \"petalWidth\": 0.1, \"sepalLength\": 4.3, \"sepalWidth\": 3.0, \"species\": \"setosa\"}, {\"petalLength\": 1.2, \"petalWidth\": 0.2, \"sepalLength\": 5.8, \"sepalWidth\": 4.0, \"species\": \"setosa\"}, {\"petalLength\": 1.5, \"petalWidth\": 0.4, \"sepalLength\": 5.7, \"sepalWidth\": 4.4, \"species\": \"setosa\"}, {\"petalLength\": 1.3, \"petalWidth\": 0.4, \"sepalLength\": 5.4, \"sepalWidth\": 3.9, \"species\": \"setosa\"}, {\"petalLength\": 1.4, \"petalWidth\": 0.30000000000000004, \"sepalLength\": 5.1, \"sepalWidth\": 3.5, \"species\": \"setosa\"}, {\"petalLength\": 1.7000000000000002, \"petalWidth\": 0.30000000000000004, \"sepalLength\": 5.7, \"sepalWidth\": 3.8, \"species\": \"setosa\"}, {\"petalLength\": 1.5, \"petalWidth\": 0.30000000000000004, \"sepalLength\": 5.1, \"sepalWidth\": 3.8, \"species\": \"setosa\"}, {\"petalLength\": 1.7000000000000002, \"petalWidth\": 0.2, \"sepalLength\": 5.4, \"sepalWidth\": 3.4, \"species\": \"setosa\"}, {\"petalLength\": 1.5, \"petalWidth\": 0.4, \"sepalLength\": 5.1, \"sepalWidth\": 3.7, \"species\": \"setosa\"}, {\"petalLength\": 1.0, \"petalWidth\": 0.2, \"sepalLength\": 4.6, \"sepalWidth\": 3.6, \"species\": \"setosa\"}, {\"petalLength\": 1.7000000000000002, \"petalWidth\": 0.5, \"sepalLength\": 5.1, \"sepalWidth\": 3.3, \"species\": \"setosa\"}, {\"petalLength\": 1.9, \"petalWidth\": 0.2, \"sepalLength\": 4.8, \"sepalWidth\": 3.4, \"species\": \"setosa\"}, {\"petalLength\": 1.6, \"petalWidth\": 0.2, \"sepalLength\": 5.0, \"sepalWidth\": 3.0, \"species\": \"setosa\"}, {\"petalLength\": 1.6, \"petalWidth\": 0.4, \"sepalLength\": 5.0, \"sepalWidth\": 3.4, \"species\": \"setosa\"}, {\"petalLength\": 1.5, \"petalWidth\": 0.2, \"sepalLength\": 5.2, \"sepalWidth\": 3.5, \"species\": \"setosa\"}, {\"petalLength\": 1.4, \"petalWidth\": 0.2, \"sepalLength\": 5.2, \"sepalWidth\": 3.4, \"species\": \"setosa\"}, {\"petalLength\": 1.6, \"petalWidth\": 0.2, \"sepalLength\": 4.7, \"sepalWidth\": 3.2, \"species\": \"setosa\"}, {\"petalLength\": 1.6, \"petalWidth\": 0.2, \"sepalLength\": 4.8, \"sepalWidth\": 3.1, \"species\": \"setosa\"}, {\"petalLength\": 1.5, \"petalWidth\": 0.4, \"sepalLength\": 5.4, \"sepalWidth\": 3.4, \"species\": \"setosa\"}, {\"petalLength\": 1.5, \"petalWidth\": 0.1, \"sepalLength\": 5.2, \"sepalWidth\": 4.1, \"species\": \"setosa\"}, {\"petalLength\": 1.4, \"petalWidth\": 0.2, \"sepalLength\": 5.5, \"sepalWidth\": 4.2, \"species\": \"setosa\"}, {\"petalLength\": 1.5, \"petalWidth\": 0.2, \"sepalLength\": 4.9, \"sepalWidth\": 3.1, \"species\": \"setosa\"}, {\"petalLength\": 1.2, \"petalWidth\": 0.2, \"sepalLength\": 5.0, \"sepalWidth\": 3.2, \"species\": \"setosa\"}, {\"petalLength\": 1.3, \"petalWidth\": 0.2, \"sepalLength\": 5.5, \"sepalWidth\": 3.5, \"species\": \"setosa\"}, {\"petalLength\": 1.4, \"petalWidth\": 0.1, \"sepalLength\": 4.9, \"sepalWidth\": 3.6, \"species\": \"setosa\"}, {\"petalLength\": 1.3, \"petalWidth\": 0.2, \"sepalLength\": 4.4, \"sepalWidth\": 3.0, \"species\": \"setosa\"}, {\"petalLength\": 1.5, \"petalWidth\": 0.2, \"sepalLength\": 5.1, \"sepalWidth\": 3.4, \"species\": \"setosa\"}, {\"petalLength\": 1.3, \"petalWidth\": 0.30000000000000004, \"sepalLength\": 5.0, \"sepalWidth\": 3.5, \"species\": \"setosa\"}, {\"petalLength\": 1.3, \"petalWidth\": 0.30000000000000004, \"sepalLength\": 4.5, \"sepalWidth\": 2.3, \"species\": \"setosa\"}, {\"petalLength\": 1.3, \"petalWidth\": 0.2, \"sepalLength\": 4.4, \"sepalWidth\": 3.2, \"species\": \"setosa\"}, {\"petalLength\": 1.6, \"petalWidth\": 0.6000000000000001, \"sepalLength\": 5.0, \"sepalWidth\": 3.5, \"species\": \"setosa\"}, {\"petalLength\": 1.9, \"petalWidth\": 0.4, \"sepalLength\": 5.1, \"sepalWidth\": 3.8, \"species\": \"setosa\"}, {\"petalLength\": 1.4, \"petalWidth\": 0.30000000000000004, \"sepalLength\": 4.8, \"sepalWidth\": 3.0, \"species\": \"setosa\"}, {\"petalLength\": 1.6, \"petalWidth\": 0.2, \"sepalLength\": 5.1, \"sepalWidth\": 3.8, \"species\": \"setosa\"}, {\"petalLength\": 1.4, \"petalWidth\": 0.2, \"sepalLength\": 4.6, \"sepalWidth\": 3.2, \"species\": \"setosa\"}, {\"petalLength\": 1.5, \"petalWidth\": 0.2, \"sepalLength\": 5.3, \"sepalWidth\": 3.7, \"species\": \"setosa\"}, {\"petalLength\": 1.4, \"petalWidth\": 0.2, \"sepalLength\": 5.0, \"sepalWidth\": 3.3, \"species\": \"setosa\"}, {\"petalLength\": 4.7, \"petalWidth\": 1.4, \"sepalLength\": 7.0, \"sepalWidth\": 3.2, \"species\": \"versicolor\"}, {\"petalLength\": 4.5, \"petalWidth\": 1.5, \"sepalLength\": 6.4, \"sepalWidth\": 3.2, \"species\": \"versicolor\"}, {\"petalLength\": 4.9, \"petalWidth\": 1.5, \"sepalLength\": 6.9, \"sepalWidth\": 3.1, \"species\": \"versicolor\"}, {\"petalLength\": 4.0, \"petalWidth\": 1.3, \"sepalLength\": 5.5, \"sepalWidth\": 2.3, \"species\": \"versicolor\"}, {\"petalLength\": 4.6, \"petalWidth\": 1.5, \"sepalLength\": 6.5, \"sepalWidth\": 2.8, \"species\": \"versicolor\"}, {\"petalLength\": 4.5, \"petalWidth\": 1.3, \"sepalLength\": 5.7, \"sepalWidth\": 2.8, \"species\": \"versicolor\"}, {\"petalLength\": 4.7, \"petalWidth\": 1.6, \"sepalLength\": 6.3, \"sepalWidth\": 3.3, \"species\": \"versicolor\"}, {\"petalLength\": 3.3, \"petalWidth\": 1.0, \"sepalLength\": 4.9, \"sepalWidth\": 2.4, \"species\": \"versicolor\"}, {\"petalLength\": 4.6, \"petalWidth\": 1.3, \"sepalLength\": 6.6, \"sepalWidth\": 2.9, \"species\": \"versicolor\"}, {\"petalLength\": 3.9, \"petalWidth\": 1.4, \"sepalLength\": 5.2, \"sepalWidth\": 2.7, \"species\": \"versicolor\"}, {\"petalLength\": 3.5, \"petalWidth\": 1.0, \"sepalLength\": 5.0, \"sepalWidth\": 2.0, \"species\": \"versicolor\"}, {\"petalLength\": 4.2, \"petalWidth\": 1.5, \"sepalLength\": 5.9, \"sepalWidth\": 3.0, \"species\": \"versicolor\"}, {\"petalLength\": 4.0, \"petalWidth\": 1.0, \"sepalLength\": 6.0, \"sepalWidth\": 2.2, \"species\": \"versicolor\"}, {\"petalLength\": 4.7, \"petalWidth\": 1.4, \"sepalLength\": 6.1, \"sepalWidth\": 2.9, \"species\": \"versicolor\"}, {\"petalLength\": 3.6, \"petalWidth\": 1.3, \"sepalLength\": 5.6, \"sepalWidth\": 2.9, \"species\": \"versicolor\"}, {\"petalLength\": 4.4, \"petalWidth\": 1.4, \"sepalLength\": 6.7, \"sepalWidth\": 3.1, \"species\": \"versicolor\"}, {\"petalLength\": 4.5, \"petalWidth\": 1.5, \"sepalLength\": 5.6, \"sepalWidth\": 3.0, \"species\": \"versicolor\"}, {\"petalLength\": 4.1, \"petalWidth\": 1.0, \"sepalLength\": 5.8, \"sepalWidth\": 2.7, \"species\": \"versicolor\"}, {\"petalLength\": 4.5, \"petalWidth\": 1.5, \"sepalLength\": 6.2, \"sepalWidth\": 2.2, \"species\": \"versicolor\"}, {\"petalLength\": 3.9, \"petalWidth\": 1.1, \"sepalLength\": 5.6, \"sepalWidth\": 2.5, \"species\": \"versicolor\"}, {\"petalLength\": 4.8, \"petalWidth\": 1.8, \"sepalLength\": 5.9, \"sepalWidth\": 3.2, \"species\": \"versicolor\"}, {\"petalLength\": 4.0, \"petalWidth\": 1.3, \"sepalLength\": 6.1, \"sepalWidth\": 2.8, \"species\": \"versicolor\"}, {\"petalLength\": 4.9, \"petalWidth\": 1.5, \"sepalLength\": 6.3, \"sepalWidth\": 2.5, \"species\": \"versicolor\"}, {\"petalLength\": 4.7, \"petalWidth\": 1.2, \"sepalLength\": 6.1, \"sepalWidth\": 2.8, \"species\": \"versicolor\"}, {\"petalLength\": 4.3, \"petalWidth\": 1.3, \"sepalLength\": 6.4, \"sepalWidth\": 2.9, \"species\": \"versicolor\"}, {\"petalLength\": 4.4, \"petalWidth\": 1.4, \"sepalLength\": 6.6, \"sepalWidth\": 3.0, \"species\": \"versicolor\"}, {\"petalLength\": 4.8, \"petalWidth\": 1.4, \"sepalLength\": 6.8, \"sepalWidth\": 2.8, \"species\": \"versicolor\"}, {\"petalLength\": 5.0, \"petalWidth\": 1.7000000000000002, \"sepalLength\": 6.7, \"sepalWidth\": 3.0, \"species\": \"versicolor\"}, {\"petalLength\": 4.5, \"petalWidth\": 1.5, \"sepalLength\": 6.0, \"sepalWidth\": 2.9, \"species\": \"versicolor\"}, {\"petalLength\": 3.5, \"petalWidth\": 1.0, \"sepalLength\": 5.7, \"sepalWidth\": 2.6, \"species\": \"versicolor\"}, {\"petalLength\": 3.8, \"petalWidth\": 1.1, \"sepalLength\": 5.5, \"sepalWidth\": 2.4, \"species\": \"versicolor\"}, {\"petalLength\": 3.7, \"petalWidth\": 1.0, \"sepalLength\": 5.5, \"sepalWidth\": 2.4, \"species\": \"versicolor\"}, {\"petalLength\": 3.9, \"petalWidth\": 1.2, \"sepalLength\": 5.8, \"sepalWidth\": 2.7, \"species\": \"versicolor\"}, {\"petalLength\": 5.1, \"petalWidth\": 1.6, \"sepalLength\": 6.0, \"sepalWidth\": 2.7, \"species\": \"versicolor\"}, {\"petalLength\": 4.5, \"petalWidth\": 1.5, \"sepalLength\": 5.4, \"sepalWidth\": 3.0, \"species\": \"versicolor\"}, {\"petalLength\": 4.5, \"petalWidth\": 1.6, \"sepalLength\": 6.0, \"sepalWidth\": 3.4, \"species\": \"versicolor\"}, {\"petalLength\": 4.7, \"petalWidth\": 1.5, \"sepalLength\": 6.7, \"sepalWidth\": 3.1, \"species\": \"versicolor\"}, {\"petalLength\": 4.4, \"petalWidth\": 1.3, \"sepalLength\": 6.3, \"sepalWidth\": 2.3, \"species\": \"versicolor\"}, {\"petalLength\": 4.1, \"petalWidth\": 1.3, \"sepalLength\": 5.6, \"sepalWidth\": 3.0, \"species\": \"versicolor\"}, {\"petalLength\": 4.0, \"petalWidth\": 1.3, \"sepalLength\": 5.5, \"sepalWidth\": 2.5, \"species\": \"versicolor\"}, {\"petalLength\": 4.4, \"petalWidth\": 1.2, \"sepalLength\": 5.5, \"sepalWidth\": 2.6, \"species\": \"versicolor\"}, {\"petalLength\": 4.6, \"petalWidth\": 1.4, \"sepalLength\": 6.1, \"sepalWidth\": 3.0, \"species\": \"versicolor\"}, {\"petalLength\": 4.0, \"petalWidth\": 1.2, \"sepalLength\": 5.8, \"sepalWidth\": 2.6, \"species\": \"versicolor\"}, {\"petalLength\": 3.3, \"petalWidth\": 1.0, \"sepalLength\": 5.0, \"sepalWidth\": 2.3, \"species\": \"versicolor\"}, {\"petalLength\": 4.2, \"petalWidth\": 1.3, \"sepalLength\": 5.6, \"sepalWidth\": 2.7, \"species\": \"versicolor\"}, {\"petalLength\": 4.2, \"petalWidth\": 1.2, \"sepalLength\": 5.7, \"sepalWidth\": 3.0, \"species\": \"versicolor\"}, {\"petalLength\": 4.2, \"petalWidth\": 1.3, \"sepalLength\": 5.7, \"sepalWidth\": 2.9, \"species\": \"versicolor\"}, {\"petalLength\": 4.3, \"petalWidth\": 1.3, \"sepalLength\": 6.2, \"sepalWidth\": 2.9, \"species\": \"versicolor\"}, {\"petalLength\": 3.0, \"petalWidth\": 1.1, \"sepalLength\": 5.1, \"sepalWidth\": 2.5, \"species\": \"versicolor\"}, {\"petalLength\": 4.1, \"petalWidth\": 1.3, \"sepalLength\": 5.7, \"sepalWidth\": 2.8, \"species\": \"versicolor\"}, {\"petalLength\": 6.0, \"petalWidth\": 2.5, \"sepalLength\": 6.3, \"sepalWidth\": 3.3, \"species\": \"virginica\"}, {\"petalLength\": 5.1, \"petalWidth\": 1.9, \"sepalLength\": 5.8, \"sepalWidth\": 2.7, \"species\": \"virginica\"}, {\"petalLength\": 5.9, \"petalWidth\": 2.1, \"sepalLength\": 7.1, \"sepalWidth\": 3.0, \"species\": \"virginica\"}, {\"petalLength\": 5.6, \"petalWidth\": 1.8, \"sepalLength\": 6.3, \"sepalWidth\": 2.9, \"species\": \"virginica\"}, {\"petalLength\": 5.8, \"petalWidth\": 2.2, \"sepalLength\": 6.5, \"sepalWidth\": 3.0, \"species\": \"virginica\"}, {\"petalLength\": 6.6, \"petalWidth\": 2.1, \"sepalLength\": 7.6, \"sepalWidth\": 3.0, \"species\": \"virginica\"}, {\"petalLength\": 4.5, \"petalWidth\": 1.7000000000000002, \"sepalLength\": 4.9, \"sepalWidth\": 2.5, \"species\": \"virginica\"}, {\"petalLength\": 6.3, \"petalWidth\": 1.8, \"sepalLength\": 7.3, \"sepalWidth\": 2.9, \"species\": \"virginica\"}, {\"petalLength\": 5.8, \"petalWidth\": 1.8, \"sepalLength\": 6.7, \"sepalWidth\": 2.5, \"species\": \"virginica\"}, {\"petalLength\": 6.1, \"petalWidth\": 2.5, \"sepalLength\": 7.2, \"sepalWidth\": 3.6, \"species\": \"virginica\"}, {\"petalLength\": 5.1, \"petalWidth\": 2.0, \"sepalLength\": 6.5, \"sepalWidth\": 3.2, \"species\": \"virginica\"}, {\"petalLength\": 5.3, \"petalWidth\": 1.9, \"sepalLength\": 6.4, \"sepalWidth\": 2.7, \"species\": \"virginica\"}, {\"petalLength\": 5.5, \"petalWidth\": 2.1, \"sepalLength\": 6.8, \"sepalWidth\": 3.0, \"species\": \"virginica\"}, {\"petalLength\": 5.0, \"petalWidth\": 2.0, \"sepalLength\": 5.7, \"sepalWidth\": 2.5, \"species\": \"virginica\"}, {\"petalLength\": 5.1, \"petalWidth\": 2.4, \"sepalLength\": 5.8, \"sepalWidth\": 2.8, \"species\": \"virginica\"}, {\"petalLength\": 5.3, \"petalWidth\": 2.3, \"sepalLength\": 6.4, \"sepalWidth\": 3.2, \"species\": \"virginica\"}, {\"petalLength\": 5.5, \"petalWidth\": 1.8, \"sepalLength\": 6.5, \"sepalWidth\": 3.0, \"species\": \"virginica\"}, {\"petalLength\": 6.7, \"petalWidth\": 2.2, \"sepalLength\": 7.7, \"sepalWidth\": 3.8, \"species\": \"virginica\"}, {\"petalLength\": 6.9, \"petalWidth\": 2.3, \"sepalLength\": 7.7, \"sepalWidth\": 2.6, \"species\": \"virginica\"}, {\"petalLength\": 5.0, \"petalWidth\": 1.5, \"sepalLength\": 6.0, \"sepalWidth\": 2.2, \"species\": \"virginica\"}, {\"petalLength\": 5.7, \"petalWidth\": 2.3, \"sepalLength\": 6.9, \"sepalWidth\": 3.2, \"species\": \"virginica\"}, {\"petalLength\": 4.9, \"petalWidth\": 2.0, \"sepalLength\": 5.6, \"sepalWidth\": 2.8, \"species\": \"virginica\"}, {\"petalLength\": 6.7, \"petalWidth\": 2.0, \"sepalLength\": 7.7, \"sepalWidth\": 2.8, \"species\": \"virginica\"}, {\"petalLength\": 4.9, \"petalWidth\": 1.8, \"sepalLength\": 6.3, \"sepalWidth\": 2.7, \"species\": \"virginica\"}, {\"petalLength\": 5.7, \"petalWidth\": 2.1, \"sepalLength\": 6.7, \"sepalWidth\": 3.3, \"species\": \"virginica\"}, {\"petalLength\": 6.0, \"petalWidth\": 1.8, \"sepalLength\": 7.2, \"sepalWidth\": 3.2, \"species\": \"virginica\"}, {\"petalLength\": 4.8, \"petalWidth\": 1.8, \"sepalLength\": 6.2, \"sepalWidth\": 2.8, \"species\": \"virginica\"}, {\"petalLength\": 4.9, \"petalWidth\": 1.8, \"sepalLength\": 6.1, \"sepalWidth\": 3.0, \"species\": \"virginica\"}, {\"petalLength\": 5.6, \"petalWidth\": 2.1, \"sepalLength\": 6.4, \"sepalWidth\": 2.8, \"species\": \"virginica\"}, {\"petalLength\": 5.8, \"petalWidth\": 1.6, \"sepalLength\": 7.2, \"sepalWidth\": 3.0, \"species\": \"virginica\"}, {\"petalLength\": 6.1, \"petalWidth\": 1.9, \"sepalLength\": 7.4, \"sepalWidth\": 2.8, \"species\": \"virginica\"}, {\"petalLength\": 6.4, \"petalWidth\": 2.0, \"sepalLength\": 7.9, \"sepalWidth\": 3.8, \"species\": \"virginica\"}, {\"petalLength\": 5.6, \"petalWidth\": 2.2, \"sepalLength\": 6.4, \"sepalWidth\": 2.8, \"species\": \"virginica\"}, {\"petalLength\": 5.1, \"petalWidth\": 1.5, \"sepalLength\": 6.3, \"sepalWidth\": 2.8, \"species\": \"virginica\"}, {\"petalLength\": 5.6, \"petalWidth\": 1.4, \"sepalLength\": 6.1, \"sepalWidth\": 2.6, \"species\": \"virginica\"}, {\"petalLength\": 6.1, \"petalWidth\": 2.3, \"sepalLength\": 7.7, \"sepalWidth\": 3.0, \"species\": \"virginica\"}, {\"petalLength\": 5.6, \"petalWidth\": 2.4, \"sepalLength\": 6.3, \"sepalWidth\": 3.4, \"species\": \"virginica\"}, {\"petalLength\": 5.5, \"petalWidth\": 1.8, \"sepalLength\": 6.4, \"sepalWidth\": 3.1, \"species\": \"virginica\"}, {\"petalLength\": 4.8, \"petalWidth\": 1.8, \"sepalLength\": 6.0, \"sepalWidth\": 3.0, \"species\": \"virginica\"}, {\"petalLength\": 5.4, \"petalWidth\": 2.1, \"sepalLength\": 6.9, \"sepalWidth\": 3.1, \"species\": \"virginica\"}, {\"petalLength\": 5.6, \"petalWidth\": 2.4, \"sepalLength\": 6.7, \"sepalWidth\": 3.1, \"species\": \"virginica\"}, {\"petalLength\": 5.1, \"petalWidth\": 2.3, \"sepalLength\": 6.9, \"sepalWidth\": 3.1, \"species\": \"virginica\"}, {\"petalLength\": 5.1, \"petalWidth\": 1.9, \"sepalLength\": 5.8, \"sepalWidth\": 2.7, \"species\": \"virginica\"}, {\"petalLength\": 5.9, \"petalWidth\": 2.3, \"sepalLength\": 6.8, \"sepalWidth\": 3.2, \"species\": \"virginica\"}, {\"petalLength\": 5.7, \"petalWidth\": 2.5, \"sepalLength\": 6.7, \"sepalWidth\": 3.3, \"species\": \"virginica\"}, {\"petalLength\": 5.2, \"petalWidth\": 2.3, \"sepalLength\": 6.7, \"sepalWidth\": 3.0, \"species\": \"virginica\"}, {\"petalLength\": 5.0, \"petalWidth\": 1.9, \"sepalLength\": 6.3, \"sepalWidth\": 2.5, \"species\": \"virginica\"}, {\"petalLength\": 5.2, \"petalWidth\": 2.0, \"sepalLength\": 6.5, \"sepalWidth\": 3.0, \"species\": \"virginica\"}, {\"petalLength\": 5.4, \"petalWidth\": 2.3, \"sepalLength\": 6.2, \"sepalWidth\": 3.4, \"species\": \"virginica\"}, {\"petalLength\": 5.1, \"petalWidth\": 1.8, \"sepalLength\": 5.9, \"sepalWidth\": 3.0, \"species\": \"virginica\"}]}, \"mark\": \"point\", \"encoding\": {\"color\": {\"type\": \"nominal\", \"field\": \"species\"}, \"x\": {\"type\": \"quantitative\", \"field\": \"petalLength\"}, \"y\": {\"type\": \"quantitative\", \"field\": \"petalWidth\"}}, \"$schema\": \"https://vega.github.io/schema/vega-lite/v2.4.3.json\"};\n",
       "var opt = {};\n",
       "var selector = \"#c62d476c-a981-4d62-9046-9db5eb536cd6\";\n",
       "var type = \"vega-lite\";\n",
       "\n",
       "var output_area = this;\n",
       "\n",
       "require(['nbextensions/jupyter-vega/index'], function(vega) {\n",
       "  vega.render(selector, spec, type, opt, output_area);\n",
       "}, function (err) {\n",
       "  if (err.requireType !== 'scripterror') {\n",
       "    throw(err);\n",
       "  }\n",
       "});\n"
      ]
     },
     "metadata": {
      "jupyter-vega": "#c62d476c-a981-4d62-9046-9db5eb536cd6"
     },
     "output_type": "display_data"
    },
    {
     "data": {
      "text/plain": []
     },
     "execution_count": 3,
     "metadata": {},
     "output_type": "execute_result"
    }
   ],
   "source": [
    "import altair as alt\n",
    "from vega_datasets import data\n",
    "\n",
    "# for the notebook only (not for JupyterLab) run this command once per session\n",
    "alt.renderers.enable('notebook')\n",
    "\n",
    "iris = data.iris()\n",
    "\n",
    "alt.Chart(iris).mark_point().encode(\n",
    "    x='petalLength',\n",
    "    y='petalWidth',\n",
    "    color='species'\n",
    ")"
   ]
  },
  {
   "cell_type": "code",
   "execution_count": null,
   "metadata": {},
   "outputs": [],
   "source": []
  }
 ],
 "metadata": {
  "kernelspec": {
   "display_name": "Python (altair_demo)",
   "language": "python",
   "name": "altair_demo"
  },
  "language_info": {
   "codemirror_mode": {
    "name": "ipython",
    "version": 3
   },
   "file_extension": ".py",
   "mimetype": "text/x-python",
   "name": "python",
   "nbconvert_exporter": "python",
   "pygments_lexer": "ipython3",
   "version": "3.6.6"
  }
 },
 "nbformat": 4,
 "nbformat_minor": 2
}
